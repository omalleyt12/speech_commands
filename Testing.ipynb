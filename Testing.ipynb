{
 "cells": [
  {
   "cell_type": "code",
   "execution_count": 1,
   "metadata": {
    "collapsed": false,
    "deletable": true,
    "editable": true
   },
   "outputs": [],
   "source": [
    "import numpy as np\n",
    "np.set_printoptions(threshold=np.nan)"
   ]
  },
  {
   "cell_type": "code",
   "execution_count": 2,
   "metadata": {
    "collapsed": false,
    "deletable": true,
    "editable": true
   },
   "outputs": [],
   "source": [
    "import tensorflow as tf\n",
    "from tensorflow.python.platform import gfile\n",
    "from tensorflow.python.ops import io_ops\n",
    "from tensorflow.contrib.framework.python.ops import audio_ops as contrib_audio\n"
   ]
  },
  {
   "cell_type": "code",
   "execution_count": 3,
   "metadata": {
    "collapsed": true,
    "deletable": true,
    "editable": true
   },
   "outputs": [],
   "source": [
    "data_dir = \"train/audio\"\n",
    "summary_dir = \"tfboard\" # where to save summary logs for Tensorboard\n",
    "wanted_words = [\"silence\",\"unknown\",\"yes\",\"no\",\"up\",\"down\",\"left\",\"right\",\"on\",\"off\",\"stop\",\"go\",\"silence\"]\n",
    "\n",
    "sample_rate = 16000 # per sec\n",
    "clip_duration_ms = 1000 #\n",
    "\n",
    "background_volume = 0.1 # how loud background noise should be, [0,1]\n",
    "background_percent = 0.8 # how many of training samps have noise added\n",
    "\n",
    "silence_percentage = 10.0 # what percent of training data should be silence\n",
    "unknown_percentage = 10.0 # what percent of training data should be unknown words\n",
    "\n",
    "time_shift_ms = 100.0 # range to randomly shift the training audio by time\n",
    "\n",
    "window_size_ms = 30.0 # millisec length of frequency analysis window\n",
    "window_stride_ms = 10.0\n",
    "\n",
    "window_size_samples = int(1600 * window_size_ms / 1000)\n",
    "window_stride_samples = int(1600 * window_stride_ms / 1000)\n",
    "\n",
    "dct_coefficient_count = 40 # bins to use for MFCC fingerprint\n",
    "\n",
    "percent_test = 10 # test set\n",
    "percent_val = 10 # val set\n"
   ]
  },
  {
   "cell_type": "code",
   "execution_count": 11,
   "metadata": {
    "collapsed": false,
    "deletable": true,
    "editable": true
   },
   "outputs": [],
   "source": [
    "samps = 1600\n",
    "\n",
    "wav_filename_ph = tf.placeholder(tf.string,[],name=\"WAV_file\")\n",
    "wav_loader = io_ops.read_file(wav_filename_ph)\n",
    "wav_decoder = contrib_audio.decode_wav(wav_loader,desired_channels=1,desired_samples=samps) # length of 1 sec\n",
    "\n",
    "volume_ph = tf.placeholder(tf.float32,[],name=\"Foreground_Volume\")\n",
    "\n",
    "# this seems weird, shouldn't it do some kind of conditional scaling??\n",
    "scaled_wav = tf.multiply(wav_decoder.audio, volume_ph)\n",
    "\n",
    "time_shift_padding_ph = tf.placeholder(tf.int32,[2,2],name=\"Padding\")\n",
    "time_shift_offset_ph = tf.placeholder(tf.int32,[2],name=\"Slicing\")\n",
    "\n",
    "padded_wav = tf.pad(scaled_wav,time_shift_padding_ph,mode=\"CONSTANT\")\n",
    "sliced_wav = tf.slice(padded_wav,time_shift_offset_ph,[samps,-1])\n",
    "\n",
    "bg_ph = tf.placeholder(tf.float32,[samps,1],name=\"Background_Noise\")\n",
    "bg_volume_ph = tf.placeholder(tf.float32,[],name=\"Background_Volume\")\n",
    "\n",
    "scaled_bg = tf.multiply(bg_ph,bg_volume_ph)\n",
    "\n",
    "wav_with_bg = tf.add(sliced_wav,scaled_bg)\n",
    "\n",
    "clamped_wav = tf.clip_by_value(wav_with_bg,-1.0,1.0)\n",
    "\n",
    "spectrogram = contrib_audio.audio_spectrogram(\n",
    "    clamped_wav,\n",
    "    window_size = window_size_samples,\n",
    "    stride = window_stride_samples,\n",
    "    magnitude_squared = True\n",
    ")\n",
    "\n",
    "mfcc = contrib_audio.mfcc(\n",
    "    spectrogram,\n",
    "    wav_decoder.sample_rate,\n",
    "    dct_coefficient_count = dct_coefficient_count\n",
    ")\n",
    "\n",
    "\n"
   ]
  },
  {
   "cell_type": "code",
   "execution_count": 12,
   "metadata": {
    "collapsed": true,
    "deletable": true,
    "editable": true
   },
   "outputs": [],
   "source": [
    "sess = tf.InteractiveSession()"
   ]
  },
  {
   "cell_type": "code",
   "execution_count": 13,
   "metadata": {
    "collapsed": false,
    "deletable": true,
    "editable": true
   },
   "outputs": [],
   "source": [
    "mfcc_array = sess.run(mfcc,feed_dict={\n",
    "    wav_filename_ph:\"train/audio/bird/00b01445_nohash_0.wav\",\n",
    "    volume_ph : 10,\n",
    "    time_shift_padding_ph: [[1,1],[0,0]],\n",
    "    time_shift_offset_ph: [2,0],\n",
    "    bg_ph: np.ones(samps).reshape(samps,1),\n",
    "    bg_volume_ph: 0.1\n",
    "})"
   ]
  },
  {
   "cell_type": "code",
   "execution_count": 14,
   "metadata": {
    "collapsed": false,
    "deletable": true,
    "editable": true
   },
   "outputs": [
    {
     "data": {
      "text/plain": [
       "(1, 98, 40)"
      ]
     },
     "execution_count": 14,
     "metadata": {},
     "output_type": "execute_result"
    }
   ],
   "source": [
    "mfcc_array.shape"
   ]
  },
  {
   "cell_type": "code",
   "execution_count": 18,
   "metadata": {
    "collapsed": false,
    "deletable": true,
    "editable": true
   },
   "outputs": [
    {
     "data": {
      "text/plain": [
       "Dimension(40)"
      ]
     },
     "execution_count": 18,
     "metadata": {},
     "output_type": "execute_result"
    }
   ],
   "source": [
    "mfcc.shape[2]"
   ]
  },
  {
   "cell_type": "code",
   "execution_count": 16,
   "metadata": {
    "collapsed": false,
    "deletable": true,
    "editable": true
   },
   "outputs": [
    {
     "data": {
      "text/plain": [
       "TensorShape([Dimension(1600), Dimension(None)])"
      ]
     },
     "execution_count": 16,
     "metadata": {},
     "output_type": "execute_result"
    }
   ],
   "source": [
    "clamped_wav.shape"
   ]
  },
  {
   "cell_type": "code",
   "execution_count": 1,
   "metadata": {
    "collapsed": true,
    "deletable": true,
    "editable": true
   },
   "outputs": [],
   "source": [
    "import sys"
   ]
  },
  {
   "cell_type": "code",
   "execution_count": 2,
   "metadata": {
    "collapsed": false
   },
   "outputs": [
    {
     "data": {
      "text/plain": [
       "'3.5.2 |Anaconda custom (64-bit)| (default, Jul  2 2016, 17:53:06) \\n[GCC 4.4.7 20120313 (Red Hat 4.4.7-1)]'"
      ]
     },
     "execution_count": 2,
     "metadata": {},
     "output_type": "execute_result"
    }
   ],
   "source": [
    "sys.version"
   ]
  },
  {
   "cell_type": "code",
   "execution_count": 3,
   "metadata": {
    "collapsed": false
   },
   "outputs": [
    {
     "data": {
      "text/plain": [
       "'/anaconda/envs/py35/bin/python'"
      ]
     },
     "execution_count": 3,
     "metadata": {},
     "output_type": "execute_result"
    }
   ],
   "source": [
    "sys.executable"
   ]
  },
  {
   "cell_type": "code",
   "execution_count": null,
   "metadata": {
    "collapsed": true
   },
   "outputs": [],
   "source": []
  }
 ],
 "metadata": {
  "kernelspec": {
   "display_name": "Python 3",
   "language": "python",
   "name": "python3"
  },
  "language_info": {
   "codemirror_mode": {
    "name": "ipython",
    "version": 3
   },
   "file_extension": ".py",
   "mimetype": "text/x-python",
   "name": "python",
   "nbconvert_exporter": "python",
   "pygments_lexer": "ipython3",
   "version": "3.5.2"
  }
 },
 "nbformat": 4,
 "nbformat_minor": 2
}
