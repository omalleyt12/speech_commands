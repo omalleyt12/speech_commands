{
 "cells": [
  {
   "cell_type": "code",
   "execution_count": 1,
   "metadata": {
    "collapsed": false,
    "deletable": true,
    "editable": true
   },
   "outputs": [],
   "source": [
    "import numpy as np\n",
    "import scipy.io.wavfile as sciwav\n",
    "from scipy import signal\n",
    "from multiprocessing.pool import Pool\n",
    "import os\n",
    "import python_speech_features as speech_features"
   ]
  },
  {
   "cell_type": "code",
   "execution_count": 2,
   "metadata": {
    "collapsed": true,
    "deletable": true,
    "editable": true
   },
   "outputs": [],
   "source": [
    "def pdkeys(d,reverse=True):\n",
    "    pprint(sorted(d.items(),key=lambda x: x[0],reverse=reverse))\n",
    "    \n",
    "def pdvals(d,reverse=True):\n",
    "    pprint(sorted(d.items(),key=lambda x: x[1],reverse=reverse))"
   ]
  },
  {
   "cell_type": "code",
   "execution_count": 3,
   "metadata": {
    "collapsed": true,
    "deletable": true,
    "editable": true
   },
   "outputs": [],
   "source": [
    "folders = os.listdir(\"train/audio\")\n",
    "\n",
    "actual_labels = [ \"yes\", \"no\", \"up\", \"down\", \"left\", \"right\", \"on\", \"off\", \"stop\", \"go\", \"unknown\" ]\n",
    "\n",
    "def label_to_index(label):\n",
    "    arr = np.zeros(len(actual_labels),dtype=np.float32)\n",
    "    for i, lab in enumerate(actual_labels):\n",
    "        if label == lab:\n",
    "            return i\n",
    "    return len(actual_labels) -1\n",
    "\n",
    "label_folders = [folder for folder in folders if folder != \"_background_noise_\"] # background noise isn't really a label folder"
   ]
  },
  {
   "cell_type": "markdown",
   "metadata": {
    "deletable": true,
    "editable": true
   },
   "source": [
    "#### This will be the main workhorse of loading the WAV files"
   ]
  },
  {
   "cell_type": "code",
   "execution_count": 4,
   "metadata": {
    "collapsed": false,
    "deletable": true,
    "editable": true
   },
   "outputs": [],
   "source": [
    "def read_wav(folder):\n",
    "    wav_info = [] # tuple of (file_name, label, sample_rate, data)\n",
    "    for wav_file in os.listdir(\"train/audio/{}\".format(folder)):\n",
    "        sample_rate, wav_data = sciwav.read(\"train/audio/{}/{}\".format(folder,wav_file))\n",
    "        wav_info.append( (wav_file, folder, sample_rate, wav_data))\n",
    "    return wav_info"
   ]
  },
  {
   "cell_type": "markdown",
   "metadata": {
    "deletable": true,
    "editable": true
   },
   "source": [
    "#### Read in every WAV file (~5 secs)"
   ]
  },
  {
   "cell_type": "code",
   "execution_count": 5,
   "metadata": {
    "collapsed": false,
    "deletable": true,
    "editable": true
   },
   "outputs": [],
   "source": [
    "pool = Pool(6)\n",
    "wavs_by_folder = pool.map(read_wav,label_folders)\n",
    "wavs = []\n",
    "for wavs_list in wavs_by_folder:\n",
    "    wavs += wavs_list\n",
    "del wavs_by_folder"
   ]
  },
  {
   "cell_type": "code",
   "execution_count": 6,
   "metadata": {
    "collapsed": false,
    "deletable": true,
    "editable": true
   },
   "outputs": [
    {
     "data": {
      "text/plain": [
       "64721"
      ]
     },
     "execution_count": 6,
     "metadata": {},
     "output_type": "execute_result"
    }
   ],
   "source": [
    "len(wavs)"
   ]
  },
  {
   "cell_type": "markdown",
   "metadata": {
    "deletable": true,
    "editable": true
   },
   "source": [
    "#### Check that every WAV file has the same sample rate and same NP shape"
   ]
  },
  {
   "cell_type": "code",
   "execution_count": 7,
   "metadata": {
    "collapsed": false,
    "deletable": true,
    "editable": true
   },
   "outputs": [],
   "source": [
    "sample_rate = wavs[0][2]\n",
    "data_shape = wavs[0][3].shape\n",
    "\n",
    "for wav in wavs:\n",
    "    if wav[2] != sample_rate:\n",
    "        print(no[2])"
   ]
  },
  {
   "cell_type": "markdown",
   "metadata": {
    "deletable": true,
    "editable": true
   },
   "source": [
    "Result: The sample rate is the same for every WAV file (good)"
   ]
  },
  {
   "cell_type": "code",
   "execution_count": 8,
   "metadata": {
    "collapsed": false,
    "deletable": true,
    "editable": true
   },
   "outputs": [
    {
     "name": "stdout",
     "output_type": "stream",
     "text": [
      "[((16000,), 58252),\n",
      " ((15976,), 2),\n",
      " ((15872,), 5),\n",
      " ((15793,), 1),\n",
      " ((15702,), 715),\n",
      " ((15604,), 494),\n",
      " ((15531,), 7),\n",
      " ((15473,), 1),\n",
      " ((15360,), 21),\n",
      " ((15233,), 3),\n",
      " ((15190,), 4),\n",
      " ((15153,), 3),\n",
      " ((15019,), 632),\n",
      " ((14861,), 478),\n",
      " ((14848,), 3),\n",
      " ((14678,), 12),\n",
      " ((14507,), 4),\n",
      " ((14490,), 3),\n",
      " ((14336,), 503),\n",
      " ((14166,), 3),\n",
      " ((14118,), 402),\n",
      " ((13995,), 11),\n",
      " ((13824,), 1),\n",
      " ((13654,), 451),\n",
      " ((13483,), 2),\n",
      " ((13375,), 331),\n",
      " ((13312,), 8),\n",
      " ((13142,), 6),\n",
      " ((13004,), 1),\n",
      " ((12971,), 406),\n",
      " ((12800,), 5),\n",
      " ((12632,), 265),\n",
      " ((12630,), 10),\n",
      " ((12480,), 2),\n",
      " ((12459,), 2),\n",
      " ((12288,), 269),\n",
      " ((12261,), 3),\n",
      " ((12118,), 5),\n",
      " ((11947,), 6),\n",
      " ((11889,), 215),\n",
      " ((11776,), 4),\n",
      " ((11606,), 259),\n",
      " ((11520,), 1),\n",
      " ((11435,), 1),\n",
      " ((11264,), 4),\n",
      " ((11146,), 157),\n",
      " ((11094,), 1),\n",
      " ((10923,), 176),\n",
      " ((10752,), 2),\n",
      " ((10582,), 1),\n",
      " ((10411,), 1),\n",
      " ((10403,), 83),\n",
      " ((10240,), 111),\n",
      " ((10070,), 1),\n",
      " ((10032,), 1),\n",
      " ((9899,), 3),\n",
      " ((9728,), 1),\n",
      " ((9660,), 59),\n",
      " ((9558,), 88),\n",
      " ((9387,), 4),\n",
      " ((9046,), 4),\n",
      " ((8917,), 35),\n",
      " ((8875,), 70),\n",
      " ((8534,), 1),\n",
      " ((8363,), 1),\n",
      " ((8192,), 53),\n",
      " ((8174,), 17),\n",
      " ((8022,), 3),\n",
      " ((7851,), 1),\n",
      " ((7510,), 6),\n",
      " ((7431,), 11),\n",
      " ((7339,), 2),\n",
      " ((6827,), 6),\n",
      " ((6688,), 4),\n",
      " ((6144,), 1),\n",
      " ((5945,), 1)]\n"
     ]
    }
   ],
   "source": [
    "from collections import defaultdict\n",
    "shapes = defaultdict(int)\n",
    "for wav in wavs:\n",
    "    shapes[wav[3].shape] += 1 # count how many records of each different shape\n",
    "from pprint import pprint\n",
    "pdkeys(shapes)"
   ]
  },
  {
   "cell_type": "markdown",
   "metadata": {
    "deletable": true,
    "editable": true
   },
   "source": [
    "Result: Most (80%) of WAV files are a full second, but with a long tail of WAV files that are shorter\n",
    "\n",
    "What this means: Shouldn't lose data by truncating to lowest comman denominator. Instead, most logical thing to do would seem to be to right-pad the data, since this truncated format is happening for short words, which is equivalent to a short word + silence.\n",
    "\n",
    "In fact, this should actually add to the signal I'm picking up on\n",
    "\n",
    "Open Q: Is 0 the right value to right-pad with given the WAV file format (I feel like yes, but idk I should look up)"
   ]
  },
  {
   "cell_type": "markdown",
   "metadata": {
    "deletable": true,
    "editable": true
   },
   "source": [
    "#### Ok, let's do the padding now why not"
   ]
  },
  {
   "cell_type": "markdown",
   "metadata": {
    "deletable": true,
    "editable": true
   },
   "source": [
    "Checking for negative values"
   ]
  },
  {
   "cell_type": "code",
   "execution_count": 9,
   "metadata": {
    "collapsed": false,
    "deletable": true,
    "editable": true
   },
   "outputs": [
    {
     "name": "stdout",
     "output_type": "stream",
     "text": [
      "[(32736, 2262.0),\n",
      " (400, 2.0),\n",
      " (200, 1.0),\n",
      " (100, 1.0),\n",
      " (0, 233.0),\n",
      " (-100, 226.0),\n",
      " (-200, 149.0),\n",
      " (-300, 141.0),\n",
      " (-400, 154.0),\n",
      " (-500, 185.0),\n",
      " (-600, 178.0),\n",
      " (-700, 204.0),\n",
      " (-800, 215.0),\n",
      " (-900, 226.0),\n",
      " (-1000, 235.0),\n",
      " (-1100, 215.0),\n",
      " (-1200, 221.0),\n",
      " (-1300, 241.0),\n",
      " (-1400, 228.0),\n",
      " (-1500, 265.0),\n",
      " (-1600, 285.0),\n",
      " (-1700, 262.0),\n",
      " (-1800, 302.0),\n",
      " (-1900, 255.0),\n",
      " (-2000, 289.0),\n",
      " (-2100, 307.0),\n",
      " (-2200, 293.0),\n",
      " (-2300, 311.0),\n",
      " (-2400, 320.0),\n",
      " (-2500, 292.0),\n",
      " (-2600, 330.0),\n",
      " (-2700, 303.0),\n",
      " (-2800, 310.0),\n",
      " (-2900, 328.0),\n",
      " (-3000, 313.0),\n",
      " (-3100, 334.0),\n",
      " (-3200, 347.0),\n",
      " (-3300, 326.0),\n",
      " (-3400, 354.0),\n",
      " (-3500, 324.0),\n",
      " (-3600, 338.0),\n",
      " (-3700, 349.0),\n",
      " (-3800, 350.0),\n",
      " (-3900, 348.0),\n",
      " (-4000, 361.0),\n",
      " (-4100, 362.0),\n",
      " (-4200, 363.0),\n",
      " (-4300, 354.0),\n",
      " (-4400, 338.0),\n",
      " (-4500, 335.0),\n",
      " (-4600, 299.0),\n",
      " (-4700, 344.0),\n",
      " (-4800, 323.0),\n",
      " (-4900, 320.0),\n",
      " (-5000, 347.0),\n",
      " (-5100, 315.0),\n",
      " (-5200, 348.0),\n",
      " (-5300, 347.0),\n",
      " (-5400, 359.0),\n",
      " (-5500, 313.0),\n",
      " (-5600, 358.0),\n",
      " (-5700, 340.0),\n",
      " (-5800, 331.0),\n",
      " (-5900, 303.0),\n",
      " (-6000, 361.0),\n",
      " (-6100, 333.0),\n",
      " (-6200, 314.0),\n",
      " (-6300, 328.0),\n",
      " (-6400, 334.0),\n",
      " (-6500, 293.0),\n",
      " (-6600, 344.0),\n",
      " (-6700, 375.0),\n",
      " (-6800, 314.0),\n",
      " (-6900, 326.0),\n",
      " (-7000, 328.0),\n",
      " (-7100, 351.0),\n",
      " (-7200, 320.0),\n",
      " (-7300, 309.0),\n",
      " (-7400, 338.0),\n",
      " (-7500, 330.0),\n",
      " (-7600, 304.0),\n",
      " (-7700, 312.0),\n",
      " (-7800, 356.0),\n",
      " (-7900, 318.0),\n",
      " (-8000, 330.0),\n",
      " (-8100, 294.0),\n",
      " (-8200, 279.0),\n",
      " (-8300, 265.0),\n",
      " (-8400, 299.0),\n",
      " (-8500, 282.0),\n",
      " (-8600, 303.0),\n",
      " (-8700, 282.0),\n",
      " (-8800, 289.0),\n",
      " (-8900, 305.0),\n",
      " (-9000, 284.0),\n",
      " (-9100, 287.0),\n",
      " (-9200, 294.0),\n",
      " (-9300, 265.0),\n",
      " (-9400, 289.0),\n",
      " (-9500, 288.0),\n",
      " (-9600, 297.0),\n",
      " (-9700, 291.0),\n",
      " (-9800, 262.0),\n",
      " (-9900, 284.0),\n",
      " (-10000, 257.0),\n",
      " (-10100, 281.0),\n",
      " (-10200, 243.0),\n",
      " (-10300, 259.0),\n",
      " (-10400, 241.0),\n",
      " (-10500, 257.0),\n",
      " (-10600, 271.0),\n",
      " (-10700, 254.0),\n",
      " (-10800, 253.0),\n",
      " (-10900, 263.0),\n",
      " (-11000, 254.0),\n",
      " (-11100, 221.0),\n",
      " (-11200, 222.0),\n",
      " (-11300, 206.0),\n",
      " (-11400, 227.0),\n",
      " (-11500, 206.0),\n",
      " (-11600, 238.0),\n",
      " (-11700, 240.0),\n",
      " (-11800, 214.0),\n",
      " (-11900, 245.0),\n",
      " (-12000, 225.0),\n",
      " (-12100, 211.0),\n",
      " (-12200, 217.0),\n",
      " (-12300, 210.0),\n",
      " (-12400, 227.0),\n",
      " (-12500, 215.0),\n",
      " (-12600, 216.0),\n",
      " (-12700, 194.0),\n",
      " (-12800, 213.0),\n",
      " (-12900, 195.0),\n",
      " (-13000, 187.0),\n",
      " (-13100, 201.0),\n",
      " (-13200, 191.0),\n",
      " (-13300, 166.0),\n",
      " (-13400, 200.0),\n",
      " (-13500, 186.0),\n",
      " (-13600, 167.0),\n",
      " (-13700, 211.0),\n",
      " (-13800, 184.0),\n",
      " (-13900, 180.0),\n",
      " (-14000, 175.0),\n",
      " (-14100, 199.0),\n",
      " (-14200, 204.0),\n",
      " (-14300, 205.0),\n",
      " (-14400, 179.0),\n",
      " (-14500, 172.0),\n",
      " (-14600, 172.0),\n",
      " (-14700, 167.0),\n",
      " (-14800, 173.0),\n",
      " (-14900, 182.0),\n",
      " (-15000, 186.0),\n",
      " (-15100, 152.0),\n",
      " (-15200, 181.0),\n",
      " (-15300, 160.0),\n",
      " (-15400, 152.0),\n",
      " (-15500, 161.0),\n",
      " (-15600, 170.0),\n",
      " (-15700, 176.0),\n",
      " (-15800, 156.0),\n",
      " (-15900, 173.0),\n",
      " (-16000, 166.0),\n",
      " (-16100, 158.0),\n",
      " (-16200, 137.0),\n",
      " (-16300, 174.0),\n",
      " (-16400, 173.0),\n",
      " (-16500, 171.0),\n",
      " (-16600, 169.0),\n",
      " (-16700, 155.0),\n",
      " (-16800, 174.0),\n",
      " (-16900, 144.0),\n",
      " (-17000, 170.0),\n",
      " (-17100, 150.0),\n",
      " (-17200, 150.0),\n",
      " (-17300, 141.0),\n",
      " (-17400, 158.0),\n",
      " (-17500, 154.0),\n",
      " (-17600, 145.0),\n",
      " (-17700, 141.0),\n",
      " (-17800, 152.0),\n",
      " (-17900, 140.0),\n",
      " (-18000, 123.0),\n",
      " (-18100, 149.0),\n",
      " (-18200, 131.0),\n",
      " (-18300, 148.0),\n",
      " (-18400, 137.0),\n",
      " (-18500, 134.0),\n",
      " (-18600, 141.0),\n",
      " (-18700, 107.0),\n",
      " (-18800, 115.0),\n",
      " (-18900, 142.0),\n",
      " (-19000, 128.0),\n",
      " (-19100, 145.0),\n",
      " (-19200, 136.0),\n",
      " (-19300, 134.0),\n",
      " (-19400, 157.0),\n",
      " (-19500, 130.0),\n",
      " (-19600, 142.0),\n",
      " (-19700, 127.0),\n",
      " (-19800, 112.0),\n",
      " (-19900, 141.0),\n",
      " (-20000, 130.0),\n",
      " (-20100, 126.0),\n",
      " (-20200, 108.0),\n",
      " (-20300, 135.0),\n",
      " (-20400, 137.0),\n",
      " (-20500, 127.0),\n",
      " (-20600, 118.0),\n",
      " (-20700, 129.0),\n",
      " (-20800, 127.0),\n",
      " (-20900, 132.0),\n",
      " (-21000, 137.0),\n",
      " (-21100, 108.0),\n",
      " (-21200, 107.0),\n",
      " (-21300, 129.0),\n",
      " (-21400, 120.0),\n",
      " (-21500, 115.0),\n",
      " (-21600, 111.0),\n",
      " (-21700, 126.0),\n",
      " (-21800, 118.0),\n",
      " (-21900, 131.0),\n",
      " (-22000, 123.0),\n",
      " (-22100, 114.0),\n",
      " (-22200, 137.0),\n",
      " (-22300, 108.0),\n",
      " (-22400, 94.0),\n",
      " (-22500, 128.0),\n",
      " (-22600, 135.0),\n",
      " (-22700, 100.0),\n",
      " (-22800, 117.0),\n",
      " (-22900, 124.0),\n",
      " (-23000, 130.0),\n",
      " (-23100, 112.0),\n",
      " (-23200, 113.0),\n",
      " (-23300, 132.0),\n",
      " (-23400, 104.0),\n",
      " (-23500, 127.0),\n",
      " (-23600, 128.0),\n",
      " (-23700, 150.0),\n",
      " (-23800, 133.0),\n",
      " (-23900, 137.0),\n",
      " (-24000, 136.0),\n",
      " (-24100, 131.0),\n",
      " (-24200, 152.0),\n",
      " (-24300, 160.0),\n",
      " (-24400, 165.0),\n",
      " (-24500, 137.0),\n",
      " (-24600, 144.0),\n",
      " (-24700, 121.0),\n",
      " (-24800, 130.0),\n",
      " (-24900, 127.0),\n",
      " (-25000, 121.0),\n",
      " (-25100, 121.0),\n",
      " (-25200, 121.0),\n",
      " (-25300, 140.0),\n",
      " (-25400, 112.0),\n",
      " (-25500, 108.0),\n",
      " (-25600, 140.0),\n",
      " (-25700, 119.0),\n",
      " (-25800, 98.0),\n",
      " (-25900, 121.0),\n",
      " (-26000, 115.0),\n",
      " (-26100, 113.0),\n",
      " (-26200, 135.0),\n",
      " (-26300, 115.0),\n",
      " (-26400, 131.0),\n",
      " (-26500, 98.0),\n",
      " (-26600, 113.0),\n",
      " (-26700, 113.0),\n",
      " (-26800, 107.0),\n",
      " (-26900, 125.0),\n",
      " (-27000, 133.0),\n",
      " (-27100, 127.0),\n",
      " (-27200, 129.0),\n",
      " (-27300, 141.0),\n",
      " (-27400, 120.0),\n",
      " (-27500, 103.0),\n",
      " (-27600, 128.0),\n",
      " (-27700, 128.0),\n",
      " (-27800, 134.0),\n",
      " (-27900, 112.0),\n",
      " (-28000, 132.0),\n",
      " (-28100, 103.0),\n",
      " (-28200, 103.0),\n",
      " (-28300, 94.0),\n",
      " (-28400, 104.0),\n",
      " (-28500, 109.0),\n",
      " (-28600, 87.0),\n",
      " (-28700, 84.0),\n",
      " (-28800, 88.0),\n",
      " (-28900, 84.0),\n",
      " (-29000, 89.0),\n",
      " (-29100, 85.0),\n",
      " (-29200, 75.0),\n",
      " (-29300, 74.0),\n",
      " (-29400, 77.0),\n",
      " (-29500, 74.0),\n",
      " (-29600, 79.0),\n",
      " (-29700, 66.0),\n",
      " (-29800, 54.0),\n",
      " (-29900, 53.0),\n",
      " (-30000, 61.0),\n",
      " (-30100, 63.0),\n",
      " (-30200, 63.0),\n",
      " (-30300, 62.0),\n",
      " (-30400, 63.0),\n",
      " (-30500, 57.0),\n",
      " (-30600, 60.0),\n",
      " (-30700, 44.0),\n",
      " (-30800, 67.0),\n",
      " (-30900, 52.0),\n",
      " (-31000, 46.0),\n",
      " (-31100, 44.0),\n",
      " (-31200, 47.0),\n",
      " (-31300, 64.0),\n",
      " (-31400, 48.0),\n",
      " (-31500, 53.0),\n",
      " (-31600, 52.0),\n",
      " (-31700, 60.0),\n",
      " (-31800, 62.0),\n",
      " (-31900, 72.0),\n",
      " (-32000, 60.0),\n",
      " (-32100, 89.0),\n",
      " (-32200, 98.0),\n",
      " (-32300, 120.0),\n",
      " (-32400, 136.0),\n",
      " (-32500, 337.0),\n",
      " (-32600, 568.0),\n",
      " (-32700, 105.0)]\n"
     ]
    }
   ],
   "source": [
    "mins = defaultdict(float)\n",
    "for wav in wavs:\n",
    "    mins[round(wav[3].min(),-2)] += 1\n",
    "pdkeys(mins)"
   ]
  },
  {
   "cell_type": "markdown",
   "metadata": {
    "collapsed": true,
    "deletable": true,
    "editable": true
   },
   "source": [
    "Ok, I get it now. \n",
    "\n",
    "Negative value == relatively lower pressure at the receiver compared to ambient pressure\n",
    "\n",
    "Positive value == rel. higher pressure\n",
    "\n",
    "Zero value == ambient pressure\n",
    "\n",
    "So yeah, zero padding is fine. But I probably also want to have a (maybe optional) preprocessing step where I make sure that\n",
    "every WAV file has the same average absolute amplitude, and I'd want to do that BEFORE zero padding. I can also hold off on zero\n",
    "padding until I've done the spectroscopy, it just depends on what's easier, since it seems like preprocessing in general won't take that long"
   ]
  },
  {
   "cell_type": "code",
   "execution_count": 10,
   "metadata": {
    "collapsed": true,
    "deletable": true,
    "editable": true
   },
   "outputs": [],
   "source": [
    "def zero_pad_wavs(wavs):\n",
    "    for i, wav in enumerate(wavs):\n",
    "        if wav[3].shape[0] < 16000:\n",
    "            padded_wav = np.zeros(16000)\n",
    "            padded_wav[:wav[3].shape[0]] = wav[3]\n",
    "            wavs[i] = (wav[0],wav[1],wav[2],padded_wav)\n",
    "    return wavs\n",
    "        "
   ]
  },
  {
   "cell_type": "code",
   "execution_count": 11,
   "metadata": {
    "collapsed": false,
    "deletable": true,
    "editable": true
   },
   "outputs": [],
   "source": [
    "def map_to_spectrogram(wavs,**kwargs):\n",
    "    e = 0\n",
    "    for i, wav in enumerate(wavs):\n",
    "        mfcc_data = speech_features.mfcc(wav[3],**kwargs)\n",
    "        wavs[i] = (wav[0],wav[1],wav[2],mfcc_data)\n",
    "        e += 1\n",
    "        if e%10000 == 0:\n",
    "            print(e)\n",
    "    return wavs"
   ]
  },
  {
   "cell_type": "markdown",
   "metadata": {
    "deletable": true,
    "editable": true
   },
   "source": [
    "## Ok, here's the things that will actually run in order"
   ]
  },
  {
   "cell_type": "markdown",
   "metadata": {
    "deletable": true,
    "editable": true
   },
   "source": [
    "Load files"
   ]
  },
  {
   "cell_type": "code",
   "execution_count": 12,
   "metadata": {
    "collapsed": true,
    "deletable": true,
    "editable": true
   },
   "outputs": [],
   "source": [
    "pool = Pool(6)\n",
    "wavs_by_folder = pool.map(read_wav,label_folders)\n",
    "wavs = []\n",
    "for wavs_list in wavs_by_folder:\n",
    "    wavs += wavs_list\n",
    "del wavs_by_folder"
   ]
  },
  {
   "cell_type": "markdown",
   "metadata": {
    "deletable": true,
    "editable": true
   },
   "source": [
    "Zero pad WAVs"
   ]
  },
  {
   "cell_type": "code",
   "execution_count": 13,
   "metadata": {
    "collapsed": true,
    "deletable": true,
    "editable": true
   },
   "outputs": [],
   "source": [
    "wavs = zero_pad_wavs(wavs)"
   ]
  },
  {
   "cell_type": "markdown",
   "metadata": {
    "deletable": true,
    "editable": true
   },
   "source": [
    "Map to Mel-Frequency Cepstral Coefficients"
   ]
  },
  {
   "cell_type": "code",
   "execution_count": 14,
   "metadata": {
    "collapsed": false,
    "deletable": true,
    "editable": true
   },
   "outputs": [
    {
     "name": "stdout",
     "output_type": "stream",
     "text": [
      "10000\n",
      "20000\n",
      "30000\n",
      "40000\n",
      "50000\n",
      "60000\n"
     ]
    }
   ],
   "source": [
    "wavs = map_to_spectrogram(wavs,numcep=13) # this already runs parallel, but takes a good deal of time"
   ]
  },
  {
   "cell_type": "code",
   "execution_count": 15,
   "metadata": {
    "collapsed": false,
    "deletable": true,
    "editable": true
   },
   "outputs": [],
   "source": [
    "%matplotlib inline"
   ]
  },
  {
   "cell_type": "code",
   "execution_count": 16,
   "metadata": {
    "collapsed": false,
    "deletable": true,
    "editable": true
   },
   "outputs": [
    {
     "data": {
      "text/plain": [
       "<matplotlib.image.AxesImage at 0x7f3070edac88>"
      ]
     },
     "execution_count": 16,
     "metadata": {},
     "output_type": "execute_result"
    },
    {
     "data": {
      "image/png": "[encoded data removed]",
      "text/plain": [
       "<matplotlib.figure.Figure at 0x7f3071224198>"
      ]
     },
     "metadata": {},
     "output_type": "display_data"
    }
   ],
   "source": [
    "import matplotlib.pyplot as plt\n",
    "import matplotlib\n",
    "plt.imshow(wavs[13][3])"
   ]
  },
  {
   "cell_type": "markdown",
   "metadata": {
    "deletable": true,
    "editable": true
   },
   "source": [
    "### Ok let's remap things not in actual_labels to unknown"
   ]
  },
  {
   "cell_type": "code",
   "execution_count": 17,
   "metadata": {
    "collapsed": true,
    "deletable": true,
    "editable": true
   },
   "outputs": [],
   "source": [
    "def set_unknown(wavs):    \n",
    "    for i, wav in enumerate(wavs):\n",
    "        if wav[1] not in actual_labels:\n",
    "            wavs[i] = (wav[0],\"unknown\",wav[2],wav[3])\n",
    "    return wavs"
   ]
  },
  {
   "cell_type": "code",
   "execution_count": 18,
   "metadata": {
    "collapsed": false,
    "deletable": true,
    "editable": true
   },
   "outputs": [],
   "source": [
    "wavs = set_unknown(wavs)"
   ]
  },
  {
   "cell_type": "markdown",
   "metadata": {
    "deletable": true,
    "editable": true
   },
   "source": [
    "### Ok great, now let's make sure each person only appears in train or cross-validate"
   ]
  },
  {
   "cell_type": "code",
   "execution_count": 19,
   "metadata": {
    "collapsed": false,
    "deletable": true,
    "editable": true
   },
   "outputs": [],
   "source": [
    "wavs = sorted(wavs,key=lambda x: x[0])"
   ]
  },
  {
   "cell_type": "code",
   "execution_count": 20,
   "metadata": {
    "collapsed": false,
    "deletable": true,
    "editable": true
   },
   "outputs": [
    {
     "data": {
      "text/plain": [
       "(99, 13)"
      ]
     },
     "execution_count": 20,
     "metadata": {},
     "output_type": "execute_result"
    }
   ],
   "source": [
    "wavs[0][3].shape"
   ]
  },
  {
   "cell_type": "markdown",
   "metadata": {
    "deletable": true,
    "editable": true
   },
   "source": [
    "### Let's check that if I split the last 10000 off for cross-validation, that I didn't mess with the class distribution"
   ]
  },
  {
   "cell_type": "code",
   "execution_count": 21,
   "metadata": {
    "collapsed": true,
    "deletable": true,
    "editable": true
   },
   "outputs": [],
   "source": [
    "train = wavs[:-10000]\n",
    "cv = wavs[-10000:]"
   ]
  },
  {
   "cell_type": "code",
   "execution_count": 22,
   "metadata": {
    "collapsed": true,
    "deletable": true,
    "editable": true
   },
   "outputs": [],
   "source": [
    "def get_class_dist(wavs):\n",
    "    from collections import defaultdict\n",
    "    classes = defaultdict(int)\n",
    "    for wav in wavs:\n",
    "        classes[wav[1]] += 1 / len(wavs)\n",
    "    from pprint import pprint\n",
    "    pprint(classes)"
   ]
  },
  {
   "cell_type": "code",
   "execution_count": 23,
   "metadata": {
    "collapsed": false,
    "deletable": true,
    "editable": true
   },
   "outputs": [
    {
     "name": "stdout",
     "output_type": "stream",
     "text": [
      "defaultdict(<class 'int'>,\n",
      "            {'down': 0.036402843515287144,\n",
      "             'go': 0.03682315747153795,\n",
      "             'left': 0.036055627638384304,\n",
      "             'no': 0.03706072622941884,\n",
      "             'off': 0.03658558871365706,\n",
      "             'on': 0.03647594159463511,\n",
      "             'right': 0.0362749218764282,\n",
      "             'stop': 0.03616527475740625,\n",
      "             'unknown': 0.6353319566524379,\n",
      "             'up': 0.0364942161144721,\n",
      "             'yes': 0.03632974543593918})\n",
      "defaultdict(<class 'int'>,\n",
      "            {'down': 0.036700000000000024,\n",
      "             'go': 0.035699999999999996,\n",
      "             'left': 0.03800000000000006,\n",
      "             'no': 0.03469999999999997,\n",
      "             'off': 0.03549999999999999,\n",
      "             'on': 0.037100000000000036,\n",
      "             'right': 0.03820000000000007,\n",
      "             'stop': 0.04010000000000012,\n",
      "             'unknown': 0.6272999999999472,\n",
      "             'up': 0.037800000000000056,\n",
      "             'yes': 0.03890000000000009})\n"
     ]
    }
   ],
   "source": [
    "get_class_dist(train)\n",
    "get_class_dist(cv)"
   ]
  },
  {
   "cell_type": "markdown",
   "metadata": {
    "deletable": true,
    "editable": true
   },
   "source": [
    "### Ok, almost exactly the same but there's another problem: hugely unbalanced classes (i.e. almost everything is unknown)"
   ]
  },
  {
   "cell_type": "markdown",
   "metadata": {
    "deletable": true,
    "editable": true
   },
   "source": [
    "ok, now put train and cv into train_x and train_y etc format"
   ]
  },
  {
   "cell_type": "code",
   "execution_count": 24,
   "metadata": {
    "collapsed": true,
    "deletable": true,
    "editable": true
   },
   "outputs": [],
   "source": [
    "def tf_format(wavs):\n",
    "    wav_x = np.array([wav[3] for wav in wavs])\n",
    "    wav_y = np.array([label_to_index(wav[1]) for wav in wavs])\n",
    "    return wav_x, wav_y"
   ]
  },
  {
   "cell_type": "code",
   "execution_count": 25,
   "metadata": {
    "collapsed": false,
    "deletable": true,
    "editable": true
   },
   "outputs": [],
   "source": [
    "train_x, train_y = tf_format(train)\n",
    "cv_x, cv_y = tf_format(cv)"
   ]
  },
  {
   "cell_type": "code",
   "execution_count": 26,
   "metadata": {
    "collapsed": true,
    "deletable": true,
    "editable": true
   },
   "outputs": [],
   "source": [
    "import tensorflow as tf"
   ]
  },
  {
   "cell_type": "code",
   "execution_count": 27,
   "metadata": {
    "collapsed": true,
    "deletable": true,
    "editable": true
   },
   "outputs": [],
   "source": [
    "is_training = True"
   ]
  },
  {
   "cell_type": "markdown",
   "metadata": {
    "deletable": true,
    "editable": true
   },
   "source": [
    "### Here's our (simplest) Tensorflow graph"
   ]
  },
  {
   "cell_type": "code",
   "execution_count": 102,
   "metadata": {
    "collapsed": false,
    "deletable": true,
    "editable": true
   },
   "outputs": [
    {
     "name": "stdout",
     "output_type": "stream",
     "text": [
      "(?, 50, 7, 64)\n",
      "22400\n"
     ]
    }
   ],
   "source": [
    "input_height, input_width = wavs[0][3].shape\n",
    "\n",
    "x = tf.placeholder(np.float32,shape=[None,input_height,input_width])\n",
    "x_4d = tf.reshape(x,shape=[-1,input_height,input_width,1])\n",
    "\n",
    "fh, fw, fcount = 20, 8, 64 # fcount is the number of different conv'd features to train\n",
    "weights_1 = tf.Variable(tf.truncated_normal(shape=[fh, fw, 1, fcount], stddev=0.01))\n",
    "bias_1    = tf.Variable(tf.zeros(fcount))\n",
    "\n",
    "first_conv = tf.nn.conv2d(x_4d, weights_1, [1, 1, 1, 1],'SAME') + bias_1\n",
    "first_relu = tf.nn.relu(first_conv)\n",
    "\n",
    "max_pool = tf.nn.max_pool(first_relu, [1, 2, 2, 1], [1, 2, 2, 1], 'SAME')\n",
    "\n",
    "sh, sw, scount = 10, 4, 64\n",
    "weights_2 = tf.Variable(tf.truncated_normal(shape=[sh,sw,fcount,scount])) # fcount bc each window is grabbing each of the 64 feats generated in the first layer\n",
    "bias_2    = tf.Variable(tf.zeros(scount))\n",
    "\n",
    "second_conv = tf.nn.conv2d(max_pool,weights_2,[1,1,1,1],'SAME') + bias_2\n",
    "second_relu = tf.nn.relu(second_conv)\n",
    "\n",
    "now_shape = second_relu.get_shape()\n",
    "nh, nw = now_shape[1], now_shape[2]\n",
    "\n",
    "now_element_count = int(nw * nh * scount)\n",
    "\n",
    "flattened_second_conv = tf.reshape(second_relu,[-1,now_element_count]) # for each record, now flatten the input\n",
    "\n",
    "print(now_shape)\n",
    "print(now_element_count)\n",
    "\n",
    "label_count = len(actual_labels)\n",
    "weights_3 = tf.Variable(tf.truncated_normal([now_element_count,label_count], stddev=0.01))\n",
    "bias_3    = tf.Variable(tf.zeros(label_count))\n",
    "\n",
    "output_layer = tf.nn.relu(tf.matmul(flattened_second_conv, weights_3) + bias_3)\n",
    "\n",
    "y = tf.placeholder(np.int32,shape=[None])\n",
    "\n",
    "loss_by_record = tf.nn.sparse_softmax_cross_entropy_with_logits(labels=y, logits=output_layer)\n",
    "\n",
    "loss = tf.reduce_sum(loss_by_record)\n",
    "\n",
    "\n",
    "step = tf.Variable(0)\n",
    "train_step = tf.train.AdamOptimizer(0.01).minimize(loss, global_step=step)\n",
    "\n",
    "\n",
    "prediction = tf.cast(tf.argmax(output_layer,axis=1),dtype=np.int32)\n",
    "acc = tf.contrib.metrics.accuracy(y,prediction)\n"
   ]
  },
  {
   "cell_type": "code",
   "execution_count": 103,
   "metadata": {
    "collapsed": false,
    "deletable": true,
    "editable": true
   },
   "outputs": [
    {
     "data": {
      "text/plain": [
       "10000"
      ]
     },
     "execution_count": 103,
     "metadata": {},
     "output_type": "execute_result"
    }
   ],
   "source": [
    "len(cv)"
   ]
  },
  {
   "cell_type": "code",
   "execution_count": 104,
   "metadata": {
    "collapsed": false,
    "deletable": true,
    "editable": true
   },
   "outputs": [
    {
     "data": {
      "text/plain": [
       "11"
      ]
     },
     "execution_count": 104,
     "metadata": {},
     "output_type": "execute_result"
    }
   ],
   "source": [
    "len(actual_labels)"
   ]
  },
  {
   "cell_type": "code",
   "execution_count": 105,
   "metadata": {
    "collapsed": true,
    "deletable": true,
    "editable": true
   },
   "outputs": [],
   "source": [
    "sess = tf.InteractiveSession()\n",
    "sess.run(tf.global_variables_initializer())\n",
    "sess.run(tf.local_variables_initializer())"
   ]
  },
  {
   "cell_type": "code",
   "execution_count": 106,
   "metadata": {
    "collapsed": false,
    "deletable": true,
    "editable": true
   },
   "outputs": [
    {
     "name": "stdout",
     "output_type": "stream",
     "text": [
      "1000 rounds run, loss is: 316.86016405630113\n",
      "Avg acc: 0.6018000156059862\n",
      "1000 rounds run, loss is: 15.388881228923797\n",
      "Avg acc: 0.6277000151127576\n",
      "1000 rounds run, loss is: 14.965979320049286\n",
      "Avg acc: 0.6353000160902739\n",
      "1000 rounds run, loss is: 14.938686433315278\n",
      "Avg acc: 0.6383000168800353\n",
      "1000 rounds run, loss is: 14.891583340168\n",
      "Avg acc: 0.6394000169858336\n",
      "1000 rounds run, loss is: 16.518001368045805\n",
      "Avg acc: 0.6236000164076686\n",
      "1000 rounds run, loss is: 14.989688847064972\n",
      "Avg acc: 0.6357000169083477\n",
      "1000 rounds run, loss is: 14.933029567718506\n",
      "Avg acc: 0.6402000169530511\n",
      "1000 rounds run, loss is: 15.395456633090973\n",
      "Avg acc: 0.6344000168293714\n",
      "Epoch 0 accuracy is: 0.6268998980522156\n",
      "1000 rounds run, loss is: 29.903190162181854\n",
      "Avg acc: 1.2742000333815813\n",
      "1000 rounds run, loss is: 14.941217314243316\n",
      "Avg acc: 0.6423000168278813\n",
      "1000 rounds run, loss is: 15.26429620885849\n",
      "Avg acc: 0.6247000160589814\n",
      "1000 rounds run, loss is: 15.008275071620941\n",
      "Avg acc: 0.6341000164523721\n",
      "1000 rounds run, loss is: 14.991896703720093\n",
      "Avg acc: 0.6353000156506896\n",
      "1000 rounds run, loss is: 19.541756152153017\n",
      "Avg acc: 0.6336000165343285\n",
      "1000 rounds run, loss is: 15.375180356025696\n",
      "Avg acc: 0.6229000158309936\n",
      "1000 rounds run, loss is: 15.119483458042145\n",
      "Avg acc: 0.6306000154688954\n",
      "1000 rounds run, loss is: 15.063635321617127\n",
      "Avg acc: 0.6318000165373087\n",
      "Epoch 1 accuracy is: 0.6272999048233032\n",
      "1000 rounds run, loss is: 29.836800736904145\n",
      "Avg acc: 1.2734000333249569\n",
      "1000 rounds run, loss is: 15.061430785655975\n",
      "Avg acc: 0.6319000156596303\n",
      "1000 rounds run, loss is: 15.01405300283432\n",
      "Avg acc: 0.6335000164210797\n",
      "1000 rounds run, loss is: 14.959912025928498\n",
      "Avg acc: 0.6354000158011913\n",
      "1000 rounds run, loss is: 14.990693509578705\n",
      "Avg acc: 0.6343000172674655\n",
      "1000 rounds run, loss is: 15.19513822221756\n",
      "Avg acc: 0.6274000168144703\n"
     ]
    },
    {
     "ename": "KeyboardInterrupt",
     "evalue": "",
     "output_type": "error",
     "traceback": [
      "\u001b[1;31m---------------------------------------------------------------------------\u001b[0m",
      "\u001b[1;31mKeyboardInterrupt\u001b[0m                         Traceback (most recent call last)",
      "\u001b[1;32m<ipython-input-106-003f5019b378>\u001b[0m in \u001b[0;36m<module>\u001b[1;34m()\u001b[0m\n\u001b[0;32m     16\u001b[0m             \u001b[0mx\u001b[0m\u001b[1;33m:\u001b[0m \u001b[0mtrain_x\u001b[0m\u001b[1;33m[\u001b[0m\u001b[0mindices\u001b[0m\u001b[1;33m]\u001b[0m\u001b[1;33m,\u001b[0m\u001b[1;33m\u001b[0m\u001b[0m\n\u001b[0;32m     17\u001b[0m             \u001b[0my\u001b[0m\u001b[1;33m:\u001b[0m \u001b[0mtrain_y\u001b[0m\u001b[1;33m[\u001b[0m\u001b[0mindices\u001b[0m\u001b[1;33m]\u001b[0m\u001b[1;33m,\u001b[0m\u001b[1;33m\u001b[0m\u001b[0m\n\u001b[1;32m---> 18\u001b[1;33m             \u001b[0mlrate\u001b[0m\u001b[1;33m:\u001b[0m \u001b[0mlearning_rate\u001b[0m\u001b[1;33m\u001b[0m\u001b[0m\n\u001b[0m\u001b[0;32m     19\u001b[0m         })\n\u001b[0;32m     20\u001b[0m         \u001b[0mavg_loss_round\u001b[0m \u001b[1;33m+=\u001b[0m \u001b[0ml\u001b[0m\u001b[1;33m\u001b[0m\u001b[0m\n",
      "\u001b[1;32m/anaconda/envs/py35/lib/python3.5/site-packages/tensorflow/python/client/session.py\u001b[0m in \u001b[0;36mrun\u001b[1;34m(self, fetches, feed_dict, options, run_metadata)\u001b[0m\n\u001b[0;32m    893\u001b[0m     \u001b[1;32mtry\u001b[0m\u001b[1;33m:\u001b[0m\u001b[1;33m\u001b[0m\u001b[0m\n\u001b[0;32m    894\u001b[0m       result = self._run(None, fetches, feed_dict, options_ptr,\n\u001b[1;32m--> 895\u001b[1;33m                          run_metadata_ptr)\n\u001b[0m\u001b[0;32m    896\u001b[0m       \u001b[1;32mif\u001b[0m \u001b[0mrun_metadata\u001b[0m\u001b[1;33m:\u001b[0m\u001b[1;33m\u001b[0m\u001b[0m\n\u001b[0;32m    897\u001b[0m         \u001b[0mproto_data\u001b[0m \u001b[1;33m=\u001b[0m \u001b[0mtf_session\u001b[0m\u001b[1;33m.\u001b[0m\u001b[0mTF_GetBuffer\u001b[0m\u001b[1;33m(\u001b[0m\u001b[0mrun_metadata_ptr\u001b[0m\u001b[1;33m)\u001b[0m\u001b[1;33m\u001b[0m\u001b[0m\n",
      "\u001b[1;32m/anaconda/envs/py35/lib/python3.5/site-packages/tensorflow/python/client/session.py\u001b[0m in \u001b[0;36m_run\u001b[1;34m(self, handle, fetches, feed_dict, options, run_metadata)\u001b[0m\n\u001b[0;32m   1122\u001b[0m     \u001b[1;32mif\u001b[0m \u001b[0mfinal_fetches\u001b[0m \u001b[1;32mor\u001b[0m \u001b[0mfinal_targets\u001b[0m \u001b[1;32mor\u001b[0m \u001b[1;33m(\u001b[0m\u001b[0mhandle\u001b[0m \u001b[1;32mand\u001b[0m \u001b[0mfeed_dict_tensor\u001b[0m\u001b[1;33m)\u001b[0m\u001b[1;33m:\u001b[0m\u001b[1;33m\u001b[0m\u001b[0m\n\u001b[0;32m   1123\u001b[0m       results = self._do_run(handle, final_targets, final_fetches,\n\u001b[1;32m-> 1124\u001b[1;33m                              feed_dict_tensor, options, run_metadata)\n\u001b[0m\u001b[0;32m   1125\u001b[0m     \u001b[1;32melse\u001b[0m\u001b[1;33m:\u001b[0m\u001b[1;33m\u001b[0m\u001b[0m\n\u001b[0;32m   1126\u001b[0m       \u001b[0mresults\u001b[0m \u001b[1;33m=\u001b[0m \u001b[1;33m[\u001b[0m\u001b[1;33m]\u001b[0m\u001b[1;33m\u001b[0m\u001b[0m\n",
      "\u001b[1;32m/anaconda/envs/py35/lib/python3.5/site-packages/tensorflow/python/client/session.py\u001b[0m in \u001b[0;36m_do_run\u001b[1;34m(self, handle, target_list, fetch_list, feed_dict, options, run_metadata)\u001b[0m\n\u001b[0;32m   1319\u001b[0m     \u001b[1;32mif\u001b[0m \u001b[0mhandle\u001b[0m \u001b[1;32mis\u001b[0m \u001b[1;32mNone\u001b[0m\u001b[1;33m:\u001b[0m\u001b[1;33m\u001b[0m\u001b[0m\n\u001b[0;32m   1320\u001b[0m       return self._do_call(_run_fn, self._session, feeds, fetches, targets,\n\u001b[1;32m-> 1321\u001b[1;33m                            options, run_metadata)\n\u001b[0m\u001b[0;32m   1322\u001b[0m     \u001b[1;32melse\u001b[0m\u001b[1;33m:\u001b[0m\u001b[1;33m\u001b[0m\u001b[0m\n\u001b[0;32m   1323\u001b[0m       \u001b[1;32mreturn\u001b[0m \u001b[0mself\u001b[0m\u001b[1;33m.\u001b[0m\u001b[0m_do_call\u001b[0m\u001b[1;33m(\u001b[0m\u001b[0m_prun_fn\u001b[0m\u001b[1;33m,\u001b[0m \u001b[0mself\u001b[0m\u001b[1;33m.\u001b[0m\u001b[0m_session\u001b[0m\u001b[1;33m,\u001b[0m \u001b[0mhandle\u001b[0m\u001b[1;33m,\u001b[0m \u001b[0mfeeds\u001b[0m\u001b[1;33m,\u001b[0m \u001b[0mfetches\u001b[0m\u001b[1;33m)\u001b[0m\u001b[1;33m\u001b[0m\u001b[0m\n",
      "\u001b[1;32m/anaconda/envs/py35/lib/python3.5/site-packages/tensorflow/python/client/session.py\u001b[0m in \u001b[0;36m_do_call\u001b[1;34m(self, fn, *args)\u001b[0m\n\u001b[0;32m   1325\u001b[0m   \u001b[1;32mdef\u001b[0m \u001b[0m_do_call\u001b[0m\u001b[1;33m(\u001b[0m\u001b[0mself\u001b[0m\u001b[1;33m,\u001b[0m \u001b[0mfn\u001b[0m\u001b[1;33m,\u001b[0m \u001b[1;33m*\u001b[0m\u001b[0margs\u001b[0m\u001b[1;33m)\u001b[0m\u001b[1;33m:\u001b[0m\u001b[1;33m\u001b[0m\u001b[0m\n\u001b[0;32m   1326\u001b[0m     \u001b[1;32mtry\u001b[0m\u001b[1;33m:\u001b[0m\u001b[1;33m\u001b[0m\u001b[0m\n\u001b[1;32m-> 1327\u001b[1;33m       \u001b[1;32mreturn\u001b[0m \u001b[0mfn\u001b[0m\u001b[1;33m(\u001b[0m\u001b[1;33m*\u001b[0m\u001b[0margs\u001b[0m\u001b[1;33m)\u001b[0m\u001b[1;33m\u001b[0m\u001b[0m\n\u001b[0m\u001b[0;32m   1328\u001b[0m     \u001b[1;32mexcept\u001b[0m \u001b[0merrors\u001b[0m\u001b[1;33m.\u001b[0m\u001b[0mOpError\u001b[0m \u001b[1;32mas\u001b[0m \u001b[0me\u001b[0m\u001b[1;33m:\u001b[0m\u001b[1;33m\u001b[0m\u001b[0m\n\u001b[0;32m   1329\u001b[0m       \u001b[0mmessage\u001b[0m \u001b[1;33m=\u001b[0m \u001b[0mcompat\u001b[0m\u001b[1;33m.\u001b[0m\u001b[0mas_text\u001b[0m\u001b[1;33m(\u001b[0m\u001b[0me\u001b[0m\u001b[1;33m.\u001b[0m\u001b[0mmessage\u001b[0m\u001b[1;33m)\u001b[0m\u001b[1;33m\u001b[0m\u001b[0m\n",
      "\u001b[1;32m/anaconda/envs/py35/lib/python3.5/site-packages/tensorflow/python/client/session.py\u001b[0m in \u001b[0;36m_run_fn\u001b[1;34m(session, feed_dict, fetch_list, target_list, options, run_metadata)\u001b[0m\n\u001b[0;32m   1304\u001b[0m           return tf_session.TF_Run(session, options,\n\u001b[0;32m   1305\u001b[0m                                    \u001b[0mfeed_dict\u001b[0m\u001b[1;33m,\u001b[0m \u001b[0mfetch_list\u001b[0m\u001b[1;33m,\u001b[0m \u001b[0mtarget_list\u001b[0m\u001b[1;33m,\u001b[0m\u001b[1;33m\u001b[0m\u001b[0m\n\u001b[1;32m-> 1306\u001b[1;33m                                    status, run_metadata)\n\u001b[0m\u001b[0;32m   1307\u001b[0m \u001b[1;33m\u001b[0m\u001b[0m\n\u001b[0;32m   1308\u001b[0m     \u001b[1;32mdef\u001b[0m \u001b[0m_prun_fn\u001b[0m\u001b[1;33m(\u001b[0m\u001b[0msession\u001b[0m\u001b[1;33m,\u001b[0m \u001b[0mhandle\u001b[0m\u001b[1;33m,\u001b[0m \u001b[0mfeed_dict\u001b[0m\u001b[1;33m,\u001b[0m \u001b[0mfetch_list\u001b[0m\u001b[1;33m)\u001b[0m\u001b[1;33m:\u001b[0m\u001b[1;33m\u001b[0m\u001b[0m\n",
      "\u001b[1;31mKeyboardInterrupt\u001b[0m: "
     ]
    }
   ],
   "source": [
    "batch_size = 10\n",
    "epoch_size = int(1e5) # why not\n",
    "learning_start = 0.0002\n",
    "learning_decay = 1 - 0.0001 # every batch\n",
    "\n",
    "avg_loss_round = 0\n",
    "avg_acc = 0\n",
    "\n",
    "learning_rate = learning_start\n",
    "for epoch in range(10):\n",
    "    for i in range(int(epoch_size/batch_size)):\n",
    "        learning_rate = learning_rate * learning_decay\n",
    "        \n",
    "        indices = np.random.randint(0,train_x.shape[0],size=batch_size)\n",
    "        p,l, a, t = sess.run([prediction,loss, acc, train_step],feed_dict={\n",
    "            x: train_x[indices], \n",
    "            y: train_y[indices], \n",
    "            lrate: learning_rate\n",
    "        })\n",
    "        avg_loss_round += l\n",
    "        avg_acc += a\n",
    "#         print(\"Predictions:\")\n",
    "#         print(p)\n",
    "#         print(\"Actual:\")\n",
    "#         print(train_y[indices])\n",
    "#         print(\"Loss:\")\n",
    "#         print(l)\n",
    "#         print(\"Accuracy:\")\n",
    "#         print(a)\n",
    "#         if i > 10:\n",
    "#             break\n",
    "        \n",
    "        if i > 0 and i%1000 == 0:\n",
    "            print(\"1000 rounds run, loss is: {}\".format(avg_loss_round/1000))\n",
    "            print(\"Avg acc: {}\".format(avg_acc/1000))\n",
    "            avg_loss_round = 0\n",
    "            avg_acc = 0\n",
    "#     break    \n",
    "    l, a = sess.run([loss, acc],feed_dict={x: cv_x, y: cv_y})\n",
    "    \n",
    "    print(\"Epoch {} accuracy is: {}\".format(epoch,a))\n",
    "\n",
    "            \n",
    "    \n",
    "    "
   ]
  },
  {
   "cell_type": "code",
   "execution_count": 101,
   "metadata": {
    "collapsed": false,
    "deletable": true,
    "editable": true
   },
   "outputs": [],
   "source": [
    "sess.close()"
   ]
  },
  {
   "cell_type": "code",
   "execution_count": 96,
   "metadata": {
    "collapsed": false,
    "deletable": true,
    "editable": true
   },
   "outputs": [
    {
     "data": {
      "text/plain": [
       "7"
      ]
     },
     "execution_count": 96,
     "metadata": {},
     "output_type": "execute_result"
    }
   ],
   "source": [
    "input_height"
   ]
  },
  {
   "cell_type": "code",
   "execution_count": 98,
   "metadata": {
    "collapsed": false,
    "deletable": true,
    "editable": true
   },
   "outputs": [
    {
     "data": {
      "text/plain": [
       "26"
      ]
     },
     "execution_count": 98,
     "metadata": {},
     "output_type": "execute_result"
    }
   ],
   "source": [
    "input_width"
   ]
  },
  {
   "cell_type": "code",
   "execution_count": 100,
   "metadata": {
    "collapsed": false,
    "deletable": true,
    "editable": true
   },
   "outputs": [
    {
     "data": {
      "text/plain": [
       "13"
      ]
     },
     "execution_count": 100,
     "metadata": {},
     "output_type": "execute_result"
    }
   ],
   "source": [
    "train_x.shape[2]"
   ]
  },
  {
   "cell_type": "code",
   "execution_count": null,
   "metadata": {
    "collapsed": true
   },
   "outputs": [],
   "source": []
  }
 ],
 "metadata": {
  "kernelspec": {
   "display_name": "Python 3",
   "language": "python",
   "name": "python3"
  },
  "language_info": {
   "codemirror_mode": {
    "name": "ipython",
    "version": 3
   },
   "file_extension": ".py",
   "mimetype": "text/x-python",
   "name": "python",
   "nbconvert_exporter": "python",
   "pygments_lexer": "ipython3",
   "version": "3.5.2"
  }
 },
 "nbformat": 4,
 "nbformat_minor": 2
}
