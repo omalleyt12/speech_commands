{
 "cells": [
  {
   "cell_type": "code",
   "execution_count": 2,
   "metadata": {
    "collapsed": true
   },
   "outputs": [],
   "source": [
    "import tensorflow as tf\n",
    "def hz_to_mel(freq):\n",
    "  return 1127. * tf.log(1.0 + (freq / 700.))\n",
    "\n",
    "def mel_to_hz(mel):\n",
    "  return 700.*(tf.exp(mel/1127.)-1.)\n",
    "\n",
    "def multi_ffts_to_mel(freq_array, n_mels=128):\n",
    "  melfreq_array = tf.expand_dims(hz_to_mel(freq_array),0)\n",
    "  \n",
    "  mel_edges = tf.lin_space(hz_to_mel(tf.reduce_min(freq_array)), #or just use 0\n",
    "                           hz_to_mel(tf.reduce_max(freq_array)), #or SR/2\n",
    "                           n_mels+2)\n",
    "  \n",
    "  lower_edge_mel, center_mel, upper_edge_mel =tf.split(tf.contrib.signal.frame(mel_edges, 3, 1, axis=-1), 3, axis=-1)\n",
    "\n",
    "  wt_down = (melfreq_array - lower_edge_mel) / (center_mel - lower_edge_mel)\n",
    "  wt_up = (upper_edge_mel - melfreq_array) / (upper_edge_mel - center_mel)\n",
    "  \n",
    "  mel_weights_matrix = tf.maximum(0.0, tf.minimum(wt_down, wt_up))\n",
    "  center_mel_freqs = mel_to_hz(center_mel) \n",
    "  \n",
    "  return mel_weights_matrix, center_mel_freqs\n",
    "\n",
    "def audioframes2logmelspec(b_framed_signal, n_ffts=5, \n",
    "                           wvls_per_window_hinge=16, n_mel=128, \n",
    "                           fft_l1=1024, sr=16000):\n",
    "  # batch_framed_signal has shape: (batch_size x n_windows x fft_l1)\n",
    "  # decrease weights for samples w/ more than wvls_per_window_hinge\n",
    "  # wvls_per_window_hinge method could be improved, maybe weight~pmf of poisson?\n",
    "    \n",
    "  fft1_space = tf.lin_space(0., .5, 1+fft_l1//2)[1:]\n",
    "  freq_list =[sr*fft1_space] \n",
    "  n_wv_list =[fft_l1*fft1_space]\n",
    "\n",
    "  fft_list =[tf.spectral.rfft(b_framed_signal)[:,:,1:]]\n",
    "  \n",
    "  for i in range(1,n_ffts):\n",
    "    fft_lnew = fft_l1//2**i\n",
    "    fftnew_space = tf.lin_space(0., .5, 1+fft_lnew//2)[1:]\n",
    "    \n",
    "    freq_list.append(sr*fftnew_space)\n",
    "    n_wv_list.append(fft_lnew*fftnew_space)\n",
    "    \n",
    "    frames_new = b_framed_signal[:, :, (fft_l1-fft_lnew)//2:(fft_l1-fft_lnew)//2+fft_lnew]\n",
    "    fft_list.append(tf.spectral.rfft(frames_new)[:,:,1:])\n",
    "    \n",
    "  \n",
    "  freq_concat = tf.concat(freq_list, axis=-1)\n",
    "  n_wv_concat = tf.concat(n_wv_list, axis=-1)\n",
    "  fft_concat = tf.concat(fft_list, axis=-1)\n",
    "    \n",
    "  magnitude_spectros = tf.abs(fft_concat)\n",
    "\n",
    "  mel_wts, center_mel_freqs = multi_ffts_to_mel(freq_concat, n_mel)\n",
    "  wvls_wts = tf.where(n_wv_concat>wvls_per_window_hinge, wvls_per_window_hinge/n_wv_concat, tf.ones_like(n_wv_concat))\n",
    "  \n",
    "  mel_spectro=tf.tensordot(magnitude_spectros, (mel_wts*tf.expand_dims(wvls_wts,0)),axes = [[2], [1]])\n",
    "\n",
    "  log_mel_spectro = tf.log(mel_spectro+1e-7)\n",
    "  \n",
    "  return tf.expand_dims(log_mel_spectro, -1), center_mel_freqs"
   ]
  },
  {
   "cell_type": "code",
   "execution_count": null,
   "metadata": {
    "collapsed": true
   },
   "outputs": [],
   "source": []
  }
 ],
 "metadata": {
  "kernelspec": {
   "display_name": "Python 3",
   "language": "python",
   "name": "python3"
  },
  "language_info": {
   "codemirror_mode": {
    "name": "ipython",
    "version": 3
   },
   "file_extension": ".py",
   "mimetype": "text/x-python",
   "name": "python",
   "nbconvert_exporter": "python",
   "pygments_lexer": "ipython3",
   "version": "3.5.2"
  }
 },
 "nbformat": 4,
 "nbformat_minor": 2
}
