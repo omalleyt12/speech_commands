{
 "cells": [
  {
   "cell_type": "code",
   "execution_count": 1,
   "metadata": {},
   "outputs": [],
   "source": [
    "import tensorflow as tf\n",
    "import numpy as np"
   ]
  },
  {
   "cell_type": "code",
   "execution_count": 2,
   "metadata": {},
   "outputs": [],
   "source": [
    "wav_ph = tf.placeholder(tf.float32,[None,10])\n",
    "is_training_ph = tf.placeholder(tf.bool)"
   ]
  },
  {
   "cell_type": "code",
   "execution_count": 3,
   "metadata": {
    "collapsed": true
   },
   "outputs": [],
   "source": [
    "sess = tf.InteractiveSession()"
   ]
  },
  {
   "cell_type": "code",
   "execution_count": 38,
   "metadata": {
    "collapsed": true
   },
   "outputs": [],
   "source": [
    "bn = tf.contrib.slim.batch_norm(wav_ph,is_training=is_training_ph,decay=0.9)"
   ]
  },
  {
   "cell_type": "code",
   "execution_count": 39,
   "metadata": {
    "scrolled": true
   },
   "outputs": [],
   "source": [
    "update_ops = tf.get_collection(tf.GraphKeys.UPDATE_OPS)"
   ]
  },
  {
   "cell_type": "code",
   "execution_count": 40,
   "metadata": {
    "collapsed": true
   },
   "outputs": [],
   "source": [
    "wavs = np.stack([np.ones((10),np.float32),np.zeros((10),np.float32),np.arange(10,dtype=np.float32)])"
   ]
  },
  {
   "cell_type": "code",
   "execution_count": 41,
   "metadata": {
    "collapsed": true
   },
   "outputs": [],
   "source": [
    "sess.run(tf.global_variables_initializer())"
   ]
  },
  {
   "cell_type": "code",
   "execution_count": 162,
   "metadata": {},
   "outputs": [
    {
     "data": {
      "text/plain": [
       "[array([[ 1.41104233,  0.70552105,  0.        , -0.26717538, -0.39216444,\n",
       "         -0.46286044, -0.50796366, -0.53913563, -0.56192929, -0.5793063 ],\n",
       "        [-0.70552123, -1.41104221, -1.22382736, -1.06870151, -0.98041099,\n",
       "         -0.92572087, -0.8889364 , -0.86261702, -0.84289396, -0.82758039],\n",
       "        [-0.70552123,  0.70552105,  1.22382736,  1.3358767 ,  1.37257528,\n",
       "          1.38858128,  1.39689994,  1.40175259,  1.40482318,  1.40688658]], dtype=float32),\n",
       " [array([ 0.33333334,  0.66666669,  1.        ,  1.33333337,  1.66666675,\n",
       "          2.        ,  2.33333349,  2.66666675,  3.        ,  3.33333349], dtype=float32),\n",
       "  array([  0.33333331,   0.33333337,   1.        ,   2.33333349,\n",
       "           4.33333349,   7.00000048,  10.33333397,  14.33333302,\n",
       "          19.        ,  24.33333588], dtype=float32),\n",
       "  array([ 0.33333334,  0.66666669,  1.        ,  1.33333337,  1.66666675,\n",
       "          2.        ,  2.33333349,  2.66666675,  3.        ,  3.33333349], dtype=float32),\n",
       "  array([  0.33333331,   0.33333337,   1.        ,   2.33333349,\n",
       "           4.33333349,   7.00000048,  10.33333397,  14.33333302,\n",
       "          19.        ,  24.33333588], dtype=float32),\n",
       "  array([ 0.33333239,  0.66666478,  0.99999702,  1.33332956,  1.66666198,\n",
       "          1.99999404,  2.33332658,  2.66665912,  2.99999142,  3.33332396], dtype=float32),\n",
       "  array([  0.33333525,   0.33333531,   1.        ,   2.33332968,\n",
       "           4.33332348,   6.99998283,  10.33330631,  14.33329391,\n",
       "          18.9999485 ,  24.33326721], dtype=float32)]]"
      ]
     },
     "execution_count": 162,
     "metadata": {},
     "output_type": "execute_result"
    }
   ],
   "source": [
    "sess.run([bn,update_ops],{wav_ph:wavs,is_training_ph:True})"
   ]
  },
  {
   "cell_type": "code",
   "execution_count": null,
   "metadata": {
    "collapsed": true
   },
   "outputs": [],
   "source": []
  }
 ],
 "metadata": {
  "kernelspec": {
   "display_name": "Anaconda 3.6",
   "language": "python",
   "name": "ana36"
  },
  "language_info": {
   "codemirror_mode": {
    "name": "ipython",
    "version": 3
   },
   "file_extension": ".py",
   "mimetype": "text/x-python",
   "name": "python",
   "nbconvert_exporter": "python",
   "pygments_lexer": "ipython3",
   "version": "3.6.1"
  }
 },
 "nbformat": 4,
 "nbformat_minor": 2
}
